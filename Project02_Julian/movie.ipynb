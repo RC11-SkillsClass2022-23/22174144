{
  "cells": [
    {
      "cell_type": "markdown",
      "metadata": {
        "id": "q2iRhQqrZr5i"
      },
      "source": [
        "# **Preparation**"
      ]
    },
    {
      "cell_type": "code",
      "execution_count": null,
      "metadata": {
        "id": "PYStY64rYnsd"
      },
      "outputs": [],
      "source": [
        "import tensorflow as tf\n",
        "import PIL\n",
        "from tensorflow.keras.models import Model\n",
        "from tensorflow.keras.layers import (Dropout, Dense, Softmax)\n",
        "from tensorflow.keras.applications import mobilenet as _mobilenet\n",
        "import random\n",
        "import os\n",
        "import numpy as np\n",
        "import shutil"
      ]
    },
    {
      "cell_type": "code",
      "source": [
        "conda install pytorch torchvision cuda80 -c soumith"
      ],
      "metadata": {
        "id": "1OIvNjMBvzwt"
      },
      "execution_count": null,
      "outputs": []
    },
    {
      "cell_type": "code",
      "execution_count": null,
      "metadata": {
        "colab": {
          "base_uri": "https://localhost:8080/"
        },
        "id": "FZMO7WTrYqIy",
        "outputId": "c9fc59fb-2295-4223-929b-38b0753c16a6"
      },
      "outputs": [
        {
          "output_type": "stream",
          "name": "stdout",
          "text": [
            "Looking in indexes: https://pypi.org/simple, https://us-python.pkg.dev/colab-wheels/public/simple/\n",
            "Requirement already satisfied: moviepy in /usr/local/lib/python3.8/dist-packages (0.2.3.5)\n",
            "Collecting moviepy\n",
            "  Downloading moviepy-1.0.3.tar.gz (388 kB)\n",
            "\u001b[K     |████████████████████████████████| 388 kB 5.0 MB/s \n",
            "\u001b[?25hRequirement already satisfied: decorator<5.0,>=4.0.2 in /usr/local/lib/python3.8/dist-packages (from moviepy) (4.4.2)\n",
            "Requirement already satisfied: tqdm<5.0,>=4.11.2 in /usr/local/lib/python3.8/dist-packages (from moviepy) (4.64.1)\n",
            "Requirement already satisfied: requests<3.0,>=2.8.1 in /usr/local/lib/python3.8/dist-packages (from moviepy) (2.23.0)\n",
            "Collecting proglog<=1.0.0\n",
            "  Downloading proglog-0.1.10-py3-none-any.whl (6.1 kB)\n",
            "Requirement already satisfied: numpy>=1.17.3 in /usr/local/lib/python3.8/dist-packages (from moviepy) (1.21.6)\n",
            "Requirement already satisfied: imageio<3.0,>=2.5 in /usr/local/lib/python3.8/dist-packages (from moviepy) (2.9.0)\n",
            "Collecting imageio_ffmpeg>=0.2.0\n",
            "  Downloading imageio_ffmpeg-0.4.7-py3-none-manylinux2010_x86_64.whl (26.9 MB)\n",
            "\u001b[K     |████████████████████████████████| 26.9 MB 1.4 MB/s \n",
            "\u001b[?25hRequirement already satisfied: pillow in /usr/local/lib/python3.8/dist-packages (from imageio<3.0,>=2.5->moviepy) (7.1.2)\n",
            "Requirement already satisfied: idna<3,>=2.5 in /usr/local/lib/python3.8/dist-packages (from requests<3.0,>=2.8.1->moviepy) (2.10)\n",
            "Requirement already satisfied: certifi>=2017.4.17 in /usr/local/lib/python3.8/dist-packages (from requests<3.0,>=2.8.1->moviepy) (2022.9.24)\n",
            "Requirement already satisfied: chardet<4,>=3.0.2 in /usr/local/lib/python3.8/dist-packages (from requests<3.0,>=2.8.1->moviepy) (3.0.4)\n",
            "Requirement already satisfied: urllib3!=1.25.0,!=1.25.1,<1.26,>=1.21.1 in /usr/local/lib/python3.8/dist-packages (from requests<3.0,>=2.8.1->moviepy) (1.24.3)\n",
            "Building wheels for collected packages: moviepy\n",
            "  Building wheel for moviepy (setup.py) ... \u001b[?25l\u001b[?25hdone\n",
            "  Created wheel for moviepy: filename=moviepy-1.0.3-py3-none-any.whl size=110742 sha256=a09c6dc10d808b86b3fa140a2d16cce1eb5f222583c4c5cd2c676ad3f167715e\n",
            "  Stored in directory: /root/.cache/pip/wheels/e4/a4/db/0368d3a04033da662e13926594b3a8cf1aa4ffeefe570cfac1\n",
            "Successfully built moviepy\n",
            "Installing collected packages: proglog, imageio-ffmpeg, moviepy\n",
            "  Attempting uninstall: moviepy\n",
            "    Found existing installation: moviepy 0.2.3.5\n",
            "    Uninstalling moviepy-0.2.3.5:\n",
            "      Successfully uninstalled moviepy-0.2.3.5\n",
            "Successfully installed imageio-ffmpeg-0.4.7 moviepy-1.0.3 proglog-0.1.10\n"
          ]
        }
      ],
      "source": [
        "!pip install --upgrade moviepy"
      ]
    },
    {
      "cell_type": "code",
      "execution_count": null,
      "metadata": {
        "id": "uA-hLZNVY06p"
      },
      "outputs": [],
      "source": [
        "import json\n",
        "import os\n",
        "from moviepy.editor import *\n",
        "from moviepy import *"
      ]
    },
    {
      "cell_type": "code",
      "execution_count": null,
      "metadata": {
        "colab": {
          "base_uri": "https://localhost:8080/"
        },
        "id": "np_Adea0YsbG",
        "outputId": "346d5193-378f-4a5a-f238-5c3e0ebbedaf"
      },
      "outputs": [
        {
          "output_type": "stream",
          "name": "stdout",
          "text": [
            "Cloning into 'video-classification-3d-cnn-pytorch'...\n",
            "remote: Enumerating objects: 121, done.\u001b[K\n",
            "remote: Total 121 (delta 0), reused 0 (delta 0), pack-reused 121\u001b[K\n",
            "Receiving objects: 100% (121/121), 158.63 KiB | 4.81 MiB/s, done.\n",
            "Resolving deltas: 100% (63/63), done.\n"
          ]
        }
      ],
      "source": [
        "! git clone https://github.com/kenshohara/video-classification-3d-cnn-pytorch.git"
      ]
    },
    {
      "cell_type": "code",
      "execution_count": null,
      "metadata": {
        "colab": {
          "base_uri": "https://localhost:8080/"
        },
        "id": "YqjsVVRIX6fx",
        "outputId": "0c09ef85-679c-4681-b8ce-05b4739cf256"
      },
      "outputs": [
        {
          "output_type": "stream",
          "name": "stdout",
          "text": [
            "/content/video-classification-3d-cnn-pytorch\n"
          ]
        }
      ],
      "source": [
        "# Make sure you navigate to the github repo\n",
        "%cd /content/video-classification-3d-cnn-pytorch"
      ]
    },
    {
      "cell_type": "markdown",
      "metadata": {
        "id": "sb8vghouZpSm"
      },
      "source": [
        "# **Defination**"
      ]
    },
    {
      "cell_type": "markdown",
      "metadata": {
        "id": "0boZZlQEUnZy"
      },
      "source": [
        "从文件夹导出电影名字的目录"
      ]
    },
    {
      "cell_type": "code",
      "execution_count": null,
      "metadata": {
        "id": "S9DfAPbLYTB-"
      },
      "outputs": [],
      "source": [
        "# this function loads all films in the folder given as argument into the 'input' file (make sure you are in the right\n",
        "# directory)\n",
        "\n",
        "# 这个函数将作为参数的文件夹中的所有电影加载到 \"输入 \"文件中（确保你在正确的目录中）。\n",
        "\n",
        "def loadVideosToInfile(folder):\n",
        "    videos = os.listdir(folder)\n",
        "    with open('input', 'w') as inputfile:\n",
        "      for v in videos:\n",
        "        if v.split('.')[-1] == 'mp4':\n",
        "          inputfile.write(v+'\\n')"
      ]
    },
    {
      "cell_type": "markdown",
      "metadata": {
        "id": "KKGLxJkdUtn8"
      },
      "source": [
        "把所有json文件输出成一个字典"
      ]
    },
    {
      "cell_type": "code",
      "execution_count": null,
      "metadata": {
        "id": "0MRxcJKPY588"
      },
      "outputs": [],
      "source": [
        "# This function should read all .json files in the output folder, and combine them into one large dictionary\n",
        "# 这个函数应该读取输出文件夹中的所有.json文件，并将它们合并成一个大的字典。\n",
        "\n",
        "def readAllOutput(outputFolder):\n",
        "    # create an empty dictionary called 'dictionaries' to which you add the dictionary entries read \n",
        "    # from the output files\n",
        "    dictionaries = {}\n",
        "    # Read all output file names to a variable output_files (a list that contains all file names)\n",
        "    output_files = os.listdir(outputFolder)\n",
        "    print(output_files)\n",
        "    # Start of the for loop to loop through all files, read them, and add their contents to 'dictionaries'\n",
        "    for f in output_files:\n",
        "        # first test if the file extension is a '.json file'\n",
        "            if f.split('.')[-1] == 'json':\n",
        "                file = open(os.path.join(outputFolder, f))\n",
        "                segments = json.load(file)\n",
        "            # if it is a json file, we open the file\n",
        "            \n",
        "            # Then load the file content to a variable called 'segments' with the json library\n",
        "\n",
        "            # another for loop, to add the content of segments to dictionaries. As a key use the moviename.\n",
        "                for s in segments:\n",
        "                    dictionaries[s['video']] = s\n",
        "    \n",
        "    return dictionaries\n",
        "\n",
        "#dicts = readAllOutput('../output')\n",
        "#dicts.keys()"
      ]
    },
    {
      "cell_type": "markdown",
      "metadata": {
        "id": "qjzaRyPkVUbX"
      },
      "source": [
        "输出片段信息"
      ]
    },
    {
      "cell_type": "code",
      "execution_count": null,
      "metadata": {
        "id": "g1MH8ZnVZIOm"
      },
      "outputs": [],
      "source": [
        "# here keyFilmName is the name of the film that you want to find a match for, and the feature dictionary is \n",
        "# the dictionary that is given as output by the readAllOutput function\n",
        "# 这里 keyFilmName 是你想找到匹配的电影名称，而特征字典是dictionary，该dictionary由 readAllOutput 函数输出。\n",
        "\n",
        "\n",
        "def searchForMatch(keyFilmName, featureDictionary, frame = None, fps = 25, nBestMatches = 1):\n",
        "    # create variables to keep track of the best clips\n",
        "    \n",
        "    fragments = []\n",
        "    \n",
        "    # first read the features of the keyFilm into keyFeatures\n",
        "    keyClips = featureDictionary[keyFilmName]['clips']\n",
        "    keyFeatures = []\n",
        "    for c in keyClips:\n",
        "        keyFeatures.append(np.array(c['features']))\n",
        "        \n",
        "    if frame:\n",
        "        ft = 16/fps\n",
        "        \n",
        "        sf = int(frame[0]/ft)\n",
        "        ef = int(min(frame[1]/ft, len(keyFeatures)-1))\n",
        "        \n",
        "        keyFeatures = keyFeatures[sf:ef]\n",
        "    \n",
        "    # now enter a for loop to go through all films, and see what the best matching sequence is \n",
        "    # (we make sure not to check the keyFilm itself by checking it's not that filename)\n",
        "    for film in featureDictionary.keys():\n",
        "        if not film == keyFilmName:\n",
        "            filmClips = featureDictionary[film]['clips']\n",
        "            filmFeatures = []\n",
        "            for c in filmClips:\n",
        "                filmFeatures.append(np.array(c['features']))\n",
        "                \n",
        "            for i in range(len(filmFeatures)-len(keyFeatures)):\n",
        "                distance = 0\n",
        "                for j in range(len(keyFeatures)):\n",
        "                    d = np.linalg.norm(filmFeatures[i+j]-keyFeatures[j])\n",
        "                    distance += d\n",
        "                    \n",
        "                distance = distance/len(keyFeatures)\n",
        "                \n",
        "                a = fragmentsExists(fragments, [film, i, len(keyFeatures), distance])\n",
        "                \n",
        "                if a:\n",
        "                    fragments = a\n",
        "                elif len(fragments) < nBestMatches:\n",
        "                    fragments.append([film, i, len(keyFeatures), distance])\n",
        "                    fragments.sort(key = lambda x : x[-1])\n",
        "                elif distance < fragments[-1][-1]:\n",
        "                    fragments.pop()\n",
        "                    fragments.append([film, i, len(keyFeatures), distance])\n",
        "                    fragments.sort(key = lambda x : x[-1])\n",
        "                    \n",
        "                    \n",
        "            # so now here 'film' is a filename (which is the key in the feature dictionary of that film)\n",
        "            # first load the features in a 'filmFeatures' list like we did for key Features\n",
        "            # then look at the provided code from the lecture to see how to iterate through the other\n",
        "            # list of features to find the best segment. Now just make sure to also register what film\n",
        "            # name the best matching segment is from. \n",
        "            \n",
        "    # create a list containing the filename, start and nr of clips\n",
        "    \n",
        "    return fragments\n",
        "\n",
        "    # First implement it for the best matching one, then expand it to return the n best matching ones as a list,\n",
        "    # with n as an argument in the function"
      ]
    },
    {
      "cell_type": "markdown",
      "metadata": {
        "id": "tczkbGEsVRNe"
      },
      "source": [
        "测试是否存在"
      ]
    },
    {
      "cell_type": "code",
      "execution_count": null,
      "metadata": {
        "id": "Mjx4MjR3ZOLE"
      },
      "outputs": [],
      "source": [
        "def fragmentsExists(fragments, nf):\n",
        "    for f in fragments:\n",
        "        r = range(nf[1], nf[1]+nf[2])\n",
        "        if f[0] == nf[0] and (f[1] in r or f[1]+f[2] in r):\n",
        "            if f[-1] > nf[-1]:\n",
        "                fragments.remove(f)\n",
        "                fragments.append(nf)\n",
        "                fragments.sort(key = lambda x : x[-1])\n",
        "            return fragments\n",
        "    return False"
      ]
    },
    {
      "cell_type": "markdown",
      "metadata": {
        "id": "L-h_To8fVhU1"
      },
      "source": [
        "保存的前置步骤"
      ]
    },
    {
      "cell_type": "code",
      "execution_count": null,
      "metadata": {
        "id": "h27tWlv2ZQZS"
      },
      "outputs": [],
      "source": [
        "# this is a helper function to which you give the fragment (the output of the searchForMatch function), and it returns\n",
        "# a moviepy film object (which you can then save)\n",
        "# 这是一个辅助函数，你把片段（searchForMatch函数的输出）给它，然后它返回一个moviepy电影对象（然后你可以保存它）\n",
        "\n",
        "\n",
        "def extractFragment(fragment, filmFolder):\n",
        "    # here adapt the code from the lecture, but make it so that it works for any input fragment list\n",
        "    # the output of the function above: [bestRangeFilmName, bestRangeStart, len(keyFeatures)]\n",
        "    \n",
        "    filmFileName = fragment[0]\n",
        "    start = fragment[1]\n",
        "    nrClips = fragment[2]\n",
        "    \n",
        "    film = VideoFileClip(os.path.join(filmFolder, filmFileName))\n",
        "    tsfps = film.fps\n",
        "    tsFrameLength = 1/tsfps\n",
        "    \n",
        "    nrFrames = nrClips * 16\n",
        "    startFrame = start * 16\n",
        "    \n",
        "    startTime = startFrame * tsFrameLength\n",
        "    endTime = startTime + nrFrames * tsFrameLength\n",
        "    \n",
        "    filmFragment = film.subclip(startTime, endTime)\n",
        "    \n",
        "    \n",
        "    return filmFragment\n",
        "\n",
        "    # This function should read all .json files in the output folder, and combine them into one large dictionary"
      ]
    },
    {
      "cell_type": "markdown",
      "metadata": {
        "id": "ODYlG7IYZUeO"
      },
      "source": [
        "# **Run**"
      ]
    },
    {
      "cell_type": "code",
      "execution_count": null,
      "metadata": {
        "colab": {
          "base_uri": "https://localhost:8080/"
        },
        "id": "gp7s5nQo3Yix",
        "outputId": "00460872-dfbb-42af-869c-8a2a499b57ad"
      },
      "outputs": [
        {
          "output_type": "stream",
          "name": "stdout",
          "text": [
            "Mounted at /content/drive\n"
          ]
        }
      ],
      "source": [
        "from google.colab import drive\n",
        "drive.mount('/content/drive')"
      ]
    },
    {
      "cell_type": "markdown",
      "metadata": {
        "id": "Nwl-dzooaJMZ"
      },
      "source": [
        "输入电影文件夹"
      ]
    },
    {
      "cell_type": "code",
      "execution_count": null,
      "metadata": {
        "id": "QpfQ43y5ZDkE"
      },
      "outputs": [],
      "source": [
        "input_root = '/content/drive/MyDrive/RC11_2022-23/videotoproress' # 输入的需要处理的电影在这里\n",
        "processed_root = '/content/drive/MyDrive/RC11_2022-23/video_done' # 过程文件夹 处理好的会自己塞进去\n",
        "output_root = '/content/drive/MyDrive/RC11_2022-23/output' # 不是最终导出文件 只是过程量\n"
      ]
    },
    {
      "cell_type": "code",
      "execution_count": null,
      "metadata": {
        "id": "sez3NqzsZTpA"
      },
      "outputs": [],
      "source": [
        "# call function to load the filenames to 'input'\n",
        "loadVideosToInfile(input_root)"
      ]
    },
    {
      "cell_type": "markdown",
      "metadata": {
        "id": "_DnsSm2TaKdk"
      },
      "source": [
        "导出json文件"
      ]
    },
    {
      "cell_type": "code",
      "execution_count": null,
      "metadata": {
        "id": "DtON4_B4Yw_p"
      },
      "outputs": [],
      "source": [
        "# 记得改video_root的路径和output的名字↓↓↓"
      ]
    },
    {
      "cell_type": "code",
      "execution_count": null,
      "metadata": {
        "colab": {
          "base_uri": "https://localhost:8080/"
        },
        "id": "zEF6Ak-AZY8k",
        "outputId": "b3d083bb-e05f-42ff-b8d8-dbea8570fcfd"
      },
      "outputs": [
        {
          "output_type": "stream",
          "name": "stdout",
          "text": [
            "loading model /content/drive/MyDrive/RC11_2022-23/pretrainedmodel/resnet-34-kinetics.pth\n",
            "/content/drive/MyDrive/RC11_2022-23/videotoproress/walkingsmall.mp4\n",
            "ffmpeg version 3.4.11-0ubuntu0.1 Copyright (c) 2000-2022 the FFmpeg developers\n",
            "  built with gcc 7 (Ubuntu 7.5.0-3ubuntu1~18.04)\n",
            "  configuration: --prefix=/usr --extra-version=0ubuntu0.1 --toolchain=hardened --libdir=/usr/lib/x86_64-linux-gnu --incdir=/usr/include/x86_64-linux-gnu --enable-gpl --disable-stripping --enable-avresample --enable-avisynth --enable-gnutls --enable-ladspa --enable-libass --enable-libbluray --enable-libbs2b --enable-libcaca --enable-libcdio --enable-libflite --enable-libfontconfig --enable-libfreetype --enable-libfribidi --enable-libgme --enable-libgsm --enable-libmp3lame --enable-libmysofa --enable-libopenjpeg --enable-libopenmpt --enable-libopus --enable-libpulse --enable-librubberband --enable-librsvg --enable-libshine --enable-libsnappy --enable-libsoxr --enable-libspeex --enable-libssh --enable-libtheora --enable-libtwolame --enable-libvorbis --enable-libvpx --enable-libwavpack --enable-libwebp --enable-libx265 --enable-libxml2 --enable-libxvid --enable-libzmq --enable-libzvbi --enable-omx --enable-openal --enable-opengl --enable-sdl2 --enable-libdc1394 --enable-libdrm --enable-libiec61883 --enable-chromaprint --enable-frei0r --enable-libopencv --enable-libx264 --enable-shared\n",
            "  libavutil      55. 78.100 / 55. 78.100\n",
            "  libavcodec     57.107.100 / 57.107.100\n",
            "  libavformat    57. 83.100 / 57. 83.100\n",
            "  libavdevice    57. 10.100 / 57. 10.100\n",
            "  libavfilter     6.107.100 /  6.107.100\n",
            "  libavresample   3.  7.  0 /  3.  7.  0\n",
            "  libswscale      4.  8.100 /  4.  8.100\n",
            "  libswresample   2.  9.100 /  2.  9.100\n",
            "  libpostproc    54.  7.100 / 54.  7.100\n",
            "Input #0, mov,mp4,m4a,3gp,3g2,mj2, from '/content/drive/MyDrive/RC11_2022-23/videotoproress/walkingsmall.mp4':\n",
            "  Metadata:\n",
            "    major_brand     : qt  \n",
            "    minor_version   : 0\n",
            "    compatible_brands: qt  \n",
            "    creation_time   : 2022-12-13T23:30:02.000000Z\n",
            "    com.apple.quicktime.artwork: {\"data\":{\"edittime\":98,\"infoStickerId\":\"\",\"musicId\":\"\",\"os\":\"mac\",\"product\":\"lv\",\"stickerId\":\"\",\"videoEffectId\":\"\",\"videoId\":\"0beba5d0-a74a-4f51-a171-c0f7cf14edc5\"},\"source_type\":\"douyin_beauty_me\"}\n",
            "  Duration: 00:00:25.93, start: -0.001451, bitrate: 59090 kb/s\n",
            "    Stream #0:0(und): Video: h264 (High) (avc1 / 0x31637661), yuv420p(tv, bt709), 4096x1728, 58970 kb/s, 30 fps, 30 tbr, 600 tbn, 1200 tbc (default)\n",
            "    Metadata:\n",
            "      creation_time   : 2022-12-13T23:30:02.000000Z\n",
            "      handler_name    : Core Media Data Handler\n",
            "      encoder         : H.264\n",
            "    Stream #0:1(und): Audio: aac (LC) (mp4a / 0x6134706D), 44100 Hz, stereo, fltp, 113 kb/s (default)\n",
            "    Metadata:\n",
            "      creation_time   : 2022-12-13T23:30:02.000000Z\n",
            "      handler_name    : Core Media Data Handler\n",
            "Stream mapping:\n",
            "  Stream #0:0 -> #0:0 (h264 (native) -> mjpeg (native))\n",
            "Press [q] to stop, [?] for help\n",
            "\u001b[1;34m[swscaler @ 0x565189bc4000] \u001b[0m\u001b[0;33mdeprecated pixel format used, make sure you did set range correctly\n",
            "\u001b[0mOutput #0, image2, to 'tmp/image_%05d.jpg':\n",
            "  Metadata:\n",
            "    major_brand     : qt  \n",
            "    minor_version   : 0\n",
            "    compatible_brands: qt  \n",
            "    com.apple.quicktime.artwork: {\"data\":{\"edittime\":98,\"infoStickerId\":\"\",\"musicId\":\"\",\"os\":\"mac\",\"product\":\"lv\",\"stickerId\":\"\",\"videoEffectId\":\"\",\"videoId\":\"0beba5d0-a74a-4f51-a171-c0f7cf14edc5\"},\"source_type\":\"douyin_beauty_me\"}\n",
            "    encoder         : Lavf57.83.100\n",
            "    Stream #0:0(und): Video: mjpeg, yuvj420p(pc), 4096x1728, q=2-31, 200 kb/s, 30 fps, 30 tbn, 30 tbc (default)\n",
            "    Metadata:\n",
            "      creation_time   : 2022-12-13T23:30:02.000000Z\n",
            "      handler_name    : Core Media Data Handler\n",
            "      encoder         : Lavc57.107.100 mjpeg\n",
            "    Side data:\n",
            "      cpb: bitrate max/min/avg: 0/0/200000 buffer size: 0 vbv_delay: -1\n",
            "frame=  778 fps= 13 q=24.8 Lsize=N/A time=00:00:25.93 bitrate=N/A dup=1 drop=0 speed=0.417x    \n",
            "video:82388kB audio:0kB subtitle:0kB other streams:0kB global headers:0kB muxing overhead: unknown\n",
            "/usr/local/lib/python3.8/dist-packages/torch/utils/data/dataloader.py:554: UserWarning: This DataLoader will create 4 worker processes in total. Our suggested max number of worker in current system is 2, which is smaller than what this DataLoader is going to create. Please be aware that excessive worker creation might get DataLoader running slow or even freeze, lower the worker number to avoid potential slowness/freeze if necessary.\n",
            "  warnings.warn(_create_warning_msg(\n",
            "/content/video-classification-3d-cnn-pytorch/classify.py:25: UserWarning: volatile was removed and now has no effect. Use `with torch.no_grad():` instead.\n",
            "  inputs = Variable(inputs, volatile=True)\n"
          ]
        }
      ],
      "source": [
        "# run the model to process all films currently in the input_films folder, and save it to a json file, here named by the date\n",
        "# 运行模型，处理当前input_films文件夹中的所有影片，并将其保存到一个json文件中，这里以日期命名。\n",
        "\n",
        "!python main.py --input input --video_root /content/drive/MyDrive/RC11_2022-23/videotoproress --output /content/drive/MyDrive/RC11_2022-23/output/walking21222.json --model /content/drive/MyDrive/RC11_2022-23/pretrainedmodel/resnet-34-kinetics.pth --mode feature "
      ]
    },
    {
      "cell_type": "markdown",
      "metadata": {
        "id": "GpEdEeIpaxQK"
      },
      "source": [
        "将输入过的电影移到另一个文件夹"
      ]
    },
    {
      "cell_type": "code",
      "execution_count": null,
      "metadata": {
        "id": "Fg8zkGd4Zar6"
      },
      "outputs": [],
      "source": [
        "# a small piece of code that moves all processed input films to the processed films folder\n",
        "# 一小段代码，将所有处理过的输入影片移到处理过的影片文件夹中。\n",
        "\n",
        "input_films_processed = os.listdir(input_root)\n",
        "for file in input_films_processed:\n",
        "    try:\n",
        "        shutil.move(os.path.join(input_root,file), processed_root)\n",
        "    except:\n",
        "        print(file + ' not moved')"
      ]
    },
    {
      "cell_type": "code",
      "execution_count": null,
      "metadata": {
        "colab": {
          "base_uri": "https://localhost:8080/"
        },
        "id": "X-lG4hQMZd13",
        "outputId": "ebe83ff4-a4da-4fa1-c740-525cc3399553"
      },
      "outputs": [
        {
          "output_type": "stream",
          "name": "stdout",
          "text": [
            "['output2.json', 'output.json', 'outputfeature.json', 'VideosToProcess051-070.json', 'VideosToProcess026-030.json', 'VideosToProcess031-050.json', 'VideosToProcess011-015.json', 'VideosToProcess016-025.json', 'VideosToProcess001-010.json', 'onetotwentyoutput.json', 'Videoprocessed40to50.json', 'output395to390.json', 'trail.json', 'output350to60.json', 'output355to60.json', 'output340to30.json', 'output350to40clip.json', 'output330to20.json', 'output330to202.json', 'output310to07.json', 'output307to04.json', 'output304to00.json', 'special.json', '300to295.json', '295to292.json', '292to290.json', 'streemoremosaic.json', 'coffeiso.json', 'working12.json', 'walking21222.json']\n"
          ]
        }
      ],
      "source": [
        "# read all output with the function declared above\n",
        "# 用上面声明的函数读取所有输出\n",
        "\n",
        "dicts = readAllOutput(output_root)"
      ]
    },
    {
      "cell_type": "markdown",
      "metadata": {
        "id": "JzSiV7Nni72S"
      },
      "source": [
        "找到最匹配的片段"
      ]
    },
    {
      "cell_type": "code",
      "execution_count": null,
      "metadata": {
        "id": "lQp2DclAZfSn"
      },
      "outputs": [],
      "source": [
        "# look for the best matching sequence to the input file (needs to be in dicts for it to work)\n",
        "# 寻找与输入文件最匹配的序列（需要在dicts中才能工作）。\n",
        "\n",
        "keyName = 'walkingsmall.mp4'\n",
        "s = 0\n",
        "d = 12\n",
        "\n",
        "fragment = searchForMatch(keyName, dicts, frame = [s, s+d], nBestMatches = 10)"
      ]
    },
    {
      "cell_type": "code",
      "execution_count": null,
      "metadata": {
        "id": "B41axVHRZfNp",
        "colab": {
          "base_uri": "https://localhost:8080/"
        },
        "outputId": "67e8666b-9be8-4294-8b5b-8293a1abe6c7"
      },
      "outputs": [
        {
          "output_type": "execute_result",
          "data": {
            "text/plain": [
              "[['Beuys-Joseph_Ausfegen_1972.mp4', 3012, 18, 18.502649382380092],\n",
              " ['Brigates_Esmigranti_1997.mp4', 10, 18, 18.866350071663234],\n",
              " ['Blake-Jeremy_Guccinam_2000.mp4', 860, 18, 18.87085154561062],\n",
              " ['Ballard_Moving-Pictures_Chris-Petit-on-JG-Ballard.mp4',\n",
              "  521,\n",
              "  18,\n",
              "  18.88975503616356],\n",
              " ['Blake-Jeremy_Guccinam_2000.mp4', 63, 18, 18.917325127548466],\n",
              " ['Assayas-Olivier_Sans_Titre_Man-Yuk_Maggie-Cheung_1997.mp4',\n",
              "  306,\n",
              "  18,\n",
              "  18.93648857359819],\n",
              " ['Blake-Jeremy_Guccinam_2000.mp4', 156, 18, 18.960681004778863],\n",
              " ['Blake-Jeremy_Guccinam_2000.mp4', 955, 18, 18.973158804576215],\n",
              " ['Blake-Jeremy_Guccinam_2000.mp4', 189, 18, 18.981830490060272],\n",
              " ['Blake-Jeremy_Guccinam_2000.mp4', 988, 18, 19.053886829394727]]"
            ]
          },
          "metadata": {},
          "execution_count": 16
        }
      ],
      "source": [
        "fragment"
      ]
    },
    {
      "cell_type": "markdown",
      "metadata": {
        "id": "PPktL6n1WSCc"
      },
      "source": [
        "提取片段"
      ]
    },
    {
      "cell_type": "code",
      "execution_count": null,
      "metadata": {
        "id": "Yvb553kHEbdN"
      },
      "outputs": [],
      "source": [
        "# ↓↓↓改片段长"
      ]
    },
    {
      "cell_type": "code",
      "execution_count": null,
      "metadata": {
        "id": "sAqxy7ZOZigJ"
      },
      "outputs": [],
      "source": [
        "# extract the fragment from the film\n",
        "# 抽出影片中的片段\n",
        "\n",
        "fragmentFilms = []\n",
        "for f in fragment[1:5]:\n",
        "    fragmentFilms.append(extractFragment(f, processed_root))"
      ]
    },
    {
      "cell_type": "code",
      "source": [
        "fragmentFilms"
      ],
      "metadata": {
        "colab": {
          "base_uri": "https://localhost:8080/"
        },
        "id": "CnXSqwXZ9Yw2",
        "outputId": "a9fb6380-656c-4d88-8f13-b84e3b9d0bc3"
      },
      "execution_count": null,
      "outputs": [
        {
          "output_type": "execute_result",
          "data": {
            "text/plain": [
              "[<moviepy.video.io.VideoFileClip.VideoFileClip at 0x7f145a60bfa0>,\n",
              " <moviepy.video.io.VideoFileClip.VideoFileClip at 0x7f13c91a2f10>,\n",
              " <moviepy.video.io.VideoFileClip.VideoFileClip at 0x7f13c894f6a0>,\n",
              " <moviepy.video.io.VideoFileClip.VideoFileClip at 0x7f13c894f460>]"
            ]
          },
          "metadata": {},
          "execution_count": 24
        }
      ]
    },
    {
      "cell_type": "markdown",
      "metadata": {
        "id": "Dk7weD58jlwh"
      },
      "source": [
        "保存片段"
      ]
    },
    {
      "cell_type": "code",
      "execution_count": null,
      "metadata": {
        "id": "TROoNQX-aDe4"
      },
      "outputs": [],
      "source": [
        "# 最终导出文件路径，记得每次要改以防覆盖↓↓↓"
      ]
    },
    {
      "cell_type": "code",
      "execution_count": null,
      "metadata": {
        "id": "tclB9x9YZmlJ",
        "colab": {
          "base_uri": "https://localhost:8080/"
        },
        "outputId": "4771346c-f2ed-416d-f757-f6e388bd12bf"
      },
      "outputs": [
        {
          "output_type": "stream",
          "name": "stdout",
          "text": [
            "Moviepy - Building video /content/drive/MyDrive/RC11_2022-23/VideoCUT/videocut0.mp4.\n",
            "MoviePy - Writing audio in videocut0TEMP_MPY_wvf_snd.mp4\n"
          ]
        },
        {
          "output_type": "stream",
          "name": "stderr",
          "text": []
        },
        {
          "output_type": "stream",
          "name": "stdout",
          "text": [
            "MoviePy - Done.\n",
            "Moviepy - Writing video /content/drive/MyDrive/RC11_2022-23/VideoCUT/videocut0.mp4\n",
            "\n"
          ]
        },
        {
          "output_type": "stream",
          "name": "stderr",
          "text": []
        },
        {
          "output_type": "stream",
          "name": "stdout",
          "text": [
            "Moviepy - Done !\n",
            "Moviepy - video ready /content/drive/MyDrive/RC11_2022-23/VideoCUT/videocut0.mp4\n",
            "Moviepy - Building video /content/drive/MyDrive/RC11_2022-23/VideoCUT/videocut1.mp4.\n",
            "MoviePy - Writing audio in videocut1TEMP_MPY_wvf_snd.mp4\n"
          ]
        },
        {
          "output_type": "stream",
          "name": "stderr",
          "text": []
        },
        {
          "output_type": "stream",
          "name": "stdout",
          "text": [
            "MoviePy - Done.\n",
            "Moviepy - Writing video /content/drive/MyDrive/RC11_2022-23/VideoCUT/videocut1.mp4\n",
            "\n"
          ]
        },
        {
          "output_type": "stream",
          "name": "stderr",
          "text": []
        },
        {
          "output_type": "stream",
          "name": "stdout",
          "text": [
            "Moviepy - Done !\n",
            "Moviepy - video ready /content/drive/MyDrive/RC11_2022-23/VideoCUT/videocut1.mp4\n",
            "Moviepy - Building video /content/drive/MyDrive/RC11_2022-23/VideoCUT/videocut2.mp4.\n",
            "MoviePy - Writing audio in videocut2TEMP_MPY_wvf_snd.mp4\n"
          ]
        },
        {
          "output_type": "stream",
          "name": "stderr",
          "text": []
        },
        {
          "output_type": "stream",
          "name": "stdout",
          "text": [
            "MoviePy - Done.\n",
            "Moviepy - Writing video /content/drive/MyDrive/RC11_2022-23/VideoCUT/videocut2.mp4\n",
            "\n"
          ]
        },
        {
          "output_type": "stream",
          "name": "stderr",
          "text": []
        },
        {
          "output_type": "stream",
          "name": "stdout",
          "text": [
            "Moviepy - Done !\n",
            "Moviepy - video ready /content/drive/MyDrive/RC11_2022-23/VideoCUT/videocut2.mp4\n",
            "Moviepy - Building video /content/drive/MyDrive/RC11_2022-23/VideoCUT/videocut3.mp4.\n",
            "MoviePy - Writing audio in videocut3TEMP_MPY_wvf_snd.mp4\n"
          ]
        },
        {
          "output_type": "stream",
          "name": "stderr",
          "text": []
        },
        {
          "output_type": "stream",
          "name": "stdout",
          "text": [
            "MoviePy - Done.\n",
            "Moviepy - Writing video /content/drive/MyDrive/RC11_2022-23/VideoCUT/videocut3.mp4\n",
            "\n"
          ]
        },
        {
          "output_type": "stream",
          "name": "stderr",
          "text": []
        },
        {
          "output_type": "stream",
          "name": "stdout",
          "text": [
            "Moviepy - Done !\n",
            "Moviepy - video ready /content/drive/MyDrive/RC11_2022-23/VideoCUT/videocut3.mp4\n"
          ]
        }
      ],
      "source": [
        "# save the film fragment\n",
        "for i in range(len(fragmentFilms)):\n",
        "  fragmentFilms[i].write_videofile(\"/content/drive/MyDrive/RC11_2022-23/VideoCUT/videocut\" + str(i) + \".mp4\", audio_codec='aac')"
      ]
    }
  ],
  "metadata": {
    "colab": {
      "provenance": []
    },
    "gpuClass": "standard",
    "kernelspec": {
      "display_name": "Python 3",
      "name": "python3"
    },
    "language_info": {
      "name": "python"
    },
    "accelerator": "GPU"
  },
  "nbformat": 4,
  "nbformat_minor": 0
}