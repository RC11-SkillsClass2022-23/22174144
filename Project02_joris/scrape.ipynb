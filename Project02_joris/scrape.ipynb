{
 "cells": [
  {
   "cell_type": "code",
   "execution_count": 2,
   "id": "9cb4158c",
   "metadata": {},
   "outputs": [],
   "source": [
    "from pathlib import Path"
   ]
  },
  {
   "cell_type": "code",
   "execution_count": 3,
   "id": "7b1c5081",
   "metadata": {},
   "outputs": [],
   "source": [
    "from pytube import YouTube"
   ]
  },
  {
   "cell_type": "code",
   "execution_count": 4,
   "id": "13e19d22",
   "metadata": {},
   "outputs": [],
   "source": [
    "import cv2"
   ]
  },
  {
   "cell_type": "code",
   "execution_count": 5,
   "id": "0ef21ebf",
   "metadata": {},
   "outputs": [
    {
     "name": "stdout",
     "output_type": "stream",
     "text": [
      "Requirement already satisfied: opencv-python in d:\\code\\lib\\site-packages (4.7.0.72)\n",
      "Requirement already satisfied: numpy>=1.19.3 in d:\\code\\lib\\site-packages (from opencv-python) (1.23.5)\n"
     ]
    }
   ],
   "source": [
    "!pip install opencv-python"
   ]
  },
  {
   "cell_type": "code",
   "execution_count": 5,
   "id": "2536eef3",
   "metadata": {},
   "outputs": [],
   "source": [
    "imagepath = Path(\"./images\")"
   ]
  },
  {
   "cell_type": "code",
   "execution_count": 6,
   "id": "81ec8eb0",
   "metadata": {},
   "outputs": [],
   "source": [
    "imagepath.mkdir(exist_ok=True)"
   ]
  },
  {
   "cell_type": "code",
   "execution_count": 7,
   "id": "d3db0f82",
   "metadata": {},
   "outputs": [],
   "source": [
    "url = \"https://www.youtube.com/watch?v=qZmXVtH7IGM\""
   ]
  },
  {
   "cell_type": "code",
   "execution_count": 8,
   "id": "6fc95fec",
   "metadata": {},
   "outputs": [],
   "source": [
    "url3 = \"https://www.youtube.com/watch?v=4wtW9bS1EI4\""
   ]
  },
  {
   "cell_type": "code",
   "execution_count": 9,
   "id": "0c97b038",
   "metadata": {},
   "outputs": [],
   "source": [
    "url2 = \"https://www.youtube.com/watch?v=4AQQk3y3Qg0\""
   ]
  },
  {
   "cell_type": "code",
   "execution_count": 10,
   "id": "9507216e",
   "metadata": {},
   "outputs": [],
   "source": [
    "url4 = \"https://www.youtube.com/watch?v=lvLBAxLxeJs\""
   ]
  },
  {
   "cell_type": "code",
   "execution_count": 11,
   "id": "cba6f500",
   "metadata": {},
   "outputs": [],
   "source": [
    "yt = YouTube(url)"
   ]
  },
  {
   "cell_type": "code",
   "execution_count": 12,
   "id": "b705b401",
   "metadata": {},
   "outputs": [],
   "source": [
    "videos = yt.streams"
   ]
  },
  {
   "cell_type": "code",
   "execution_count": 13,
   "id": "6dde4101",
   "metadata": {},
   "outputs": [
    {
     "name": "stdout",
     "output_type": "stream",
     "text": [
      "<Stream: itag=\"17\" mime_type=\"video/3gpp\" res=\"144p\" fps=\"8fps\" vcodec=\"mp4v.20.3\" acodec=\"mp4a.40.2\" progressive=\"True\" type=\"video\">\n",
      "<Stream: itag=\"18\" mime_type=\"video/mp4\" res=\"360p\" fps=\"30fps\" vcodec=\"avc1.42001E\" acodec=\"mp4a.40.2\" progressive=\"True\" type=\"video\">\n",
      "<Stream: itag=\"22\" mime_type=\"video/mp4\" res=\"720p\" fps=\"30fps\" vcodec=\"avc1.64001F\" acodec=\"mp4a.40.2\" progressive=\"True\" type=\"video\">\n",
      "<Stream: itag=\"136\" mime_type=\"video/mp4\" res=\"720p\" fps=\"30fps\" vcodec=\"avc1.64001f\" progressive=\"False\" type=\"video\">\n",
      "<Stream: itag=\"247\" mime_type=\"video/webm\" res=\"720p\" fps=\"30fps\" vcodec=\"vp9\" progressive=\"False\" type=\"video\">\n",
      "<Stream: itag=\"135\" mime_type=\"video/mp4\" res=\"480p\" fps=\"30fps\" vcodec=\"avc1.4d401f\" progressive=\"False\" type=\"video\">\n",
      "<Stream: itag=\"244\" mime_type=\"video/webm\" res=\"480p\" fps=\"30fps\" vcodec=\"vp9\" progressive=\"False\" type=\"video\">\n",
      "<Stream: itag=\"134\" mime_type=\"video/mp4\" res=\"360p\" fps=\"30fps\" vcodec=\"avc1.4d401e\" progressive=\"False\" type=\"video\">\n",
      "<Stream: itag=\"243\" mime_type=\"video/webm\" res=\"360p\" fps=\"30fps\" vcodec=\"vp9\" progressive=\"False\" type=\"video\">\n",
      "<Stream: itag=\"133\" mime_type=\"video/mp4\" res=\"240p\" fps=\"30fps\" vcodec=\"avc1.4d4015\" progressive=\"False\" type=\"video\">\n",
      "<Stream: itag=\"242\" mime_type=\"video/webm\" res=\"240p\" fps=\"30fps\" vcodec=\"vp9\" progressive=\"False\" type=\"video\">\n",
      "<Stream: itag=\"160\" mime_type=\"video/mp4\" res=\"144p\" fps=\"30fps\" vcodec=\"avc1.4d400c\" progressive=\"False\" type=\"video\">\n",
      "<Stream: itag=\"278\" mime_type=\"video/webm\" res=\"144p\" fps=\"30fps\" vcodec=\"vp9\" progressive=\"False\" type=\"video\">\n",
      "<Stream: itag=\"139\" mime_type=\"audio/mp4\" abr=\"48kbps\" acodec=\"mp4a.40.5\" progressive=\"False\" type=\"audio\">\n",
      "<Stream: itag=\"140\" mime_type=\"audio/mp4\" abr=\"128kbps\" acodec=\"mp4a.40.2\" progressive=\"False\" type=\"audio\">\n",
      "<Stream: itag=\"249\" mime_type=\"audio/webm\" abr=\"50kbps\" acodec=\"opus\" progressive=\"False\" type=\"audio\">\n",
      "<Stream: itag=\"250\" mime_type=\"audio/webm\" abr=\"70kbps\" acodec=\"opus\" progressive=\"False\" type=\"audio\">\n",
      "<Stream: itag=\"251\" mime_type=\"audio/webm\" abr=\"160kbps\" acodec=\"opus\" progressive=\"False\" type=\"audio\">\n"
     ]
    }
   ],
   "source": [
    "for video in videos:\n",
    "    print(video)"
   ]
  },
  {
   "cell_type": "code",
   "execution_count": 10,
   "id": "b5b72ad1",
   "metadata": {},
   "outputs": [],
   "source": [
    "os = yt.streams.filter(res='720p',mime_type=\"video/mp4\")"
   ]
  },
  {
   "cell_type": "code",
   "execution_count": null,
   "id": "87cc8798",
   "metadata": {},
   "outputs": [],
   "source": [
    "os = yt.streams.filter(res='720p',mime_type=\"video/mp4\")\n",
    "title = yt.title + \".mp4\"\n",
    "for video in videos:\n",
    "    video.download()"
   ]
  },
  {
   "cell_type": "code",
   "execution_count": null,
   "id": "c621d108",
   "metadata": {},
   "outputs": [
    {
     "name": "stdout",
     "output_type": "stream",
     "text": [
      "Vienna 2023- Walk from Mariahilfer to Stephansplatz.mp4\n"
     ]
    }
   ],
   "source": [
    "os = yt.streams.filter(res='720p',mime_type=\"video/mp4\")\n",
    "title = yt.title + \".mp4\"\n",
    "print(title)\n",
    "for video in videos:\n",
    "    video.download()\n",
    "    cap = cv2.VideoCapture(title)\n",
    "    frame_no = 0\n",
    "    while(cap.isOpened()):\n",
    "        ret, frame = cap.read()\n",
    "        if not ret:\n",
    "            break\n",
    "        if frame_no % 8 == 0:\n",
    "            target = str(imagepath / f'{frame_no}.jpg')\n",
    "            cv2.imwrite(target, frame)\n",
    "        frame_no += 1\n",
    "    cap.release()"
   ]
  },
  {
   "cell_type": "code",
   "execution_count": null,
   "id": "37a1d1aa",
   "metadata": {},
   "outputs": [
    {
     "name": "stdout",
     "output_type": "stream",
     "text": [
      "Istanbul, Turkey 8K Video Ultra HD 120 FPS in Drone View.mp4\n"
     ]
    }
   ],
   "source": [
    "title = yt.title + \".mp4\"\n",
    "print(title)\n",
    "for video in videos:\n",
    "    video.download()\n",
    "    cap = cv2.VideoCapture(title)\n",
    "    frame_no = 0\n",
    "    while(cap.isOpened()):\n",
    "        ret,frame = cap.read()\n",
    "        if frame_no % 10 ==0:\n",
    "            target = str(imagepath/f'{frame_no}.jpg')\n",
    "            cv2.imwrite(target)\n",
    "        frame_no +=1"
   ]
  },
  {
   "cell_type": "code",
   "execution_count": null,
   "id": "3255a903",
   "metadata": {},
   "outputs": [
    {
     "name": "stdout",
     "output_type": "stream",
     "text": [
      "Bird Cage Cave Dive!  (The longest cave in the world!).mp4\n"
     ]
    }
   ],
   "source": [
    "title = yt.title + \".mp4\"\n",
    "print(title)\n",
    "for video in videos:\n",
    "    video.download()\n",
    "    cap = cv2.VideoCapture(title)\n",
    "    frame_no = 0\n",
    "    while(cap.isOpened()):\n",
    "        ret, frame = cap.read()\n",
    "        if not ret:\n",
    "            break\n",
    "        if frame_no % 10 == 0:\n",
    "            target = str(imagepath / f'{frame_no}.jpg')\n",
    "            frame = cv2.resize(frame, (1280, 720))\n",
    "            cv2.imwrite(target, frame, [cv2.IMWRITE_JPEG_QUALITY, 100])\n",
    "        frame_no += 1\n",
    "    cap.release()"
   ]
  },
  {
   "cell_type": "code",
   "execution_count": null,
   "id": "5f03d92a",
   "metadata": {},
   "outputs": [],
   "source": []
  },
  {
   "cell_type": "code",
   "execution_count": 21,
   "id": "356e56d3",
   "metadata": {},
   "outputs": [],
   "source": [
    "title = yt.title + \".mp4\""
   ]
  },
  {
   "cell_type": "code",
   "execution_count": 22,
   "id": "744678a2",
   "metadata": {},
   "outputs": [
    {
     "data": {
      "text/plain": [
       "'2019 Nautilus Expedition Highlights | Nautilus Live.mp4'"
      ]
     },
     "execution_count": 22,
     "metadata": {},
     "output_type": "execute_result"
    }
   ],
   "source": [
    "title"
   ]
  },
  {
   "cell_type": "code",
   "execution_count": 25,
   "id": "dbbf40f3",
   "metadata": {},
   "outputs": [],
   "source": []
  },
  {
   "cell_type": "code",
   "execution_count": null,
   "id": "226750d3",
   "metadata": {},
   "outputs": [],
   "source": [
    "while "
   ]
  }
 ],
 "metadata": {
  "kernelspec": {
   "display_name": "Python 3 (ipykernel)",
   "language": "python",
   "name": "python3"
  },
  "language_info": {
   "codemirror_mode": {
    "name": "ipython",
    "version": 3
   },
   "file_extension": ".py",
   "mimetype": "text/x-python",
   "name": "python",
   "nbconvert_exporter": "python",
   "pygments_lexer": "ipython3",
   "version": "3.10.9"
  }
 },
 "nbformat": 4,
 "nbformat_minor": 5
}
